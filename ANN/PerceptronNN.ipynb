{
  "nbformat": 4,
  "nbformat_minor": 0,
  "metadata": {
    "colab": {
      "provenance": []
    },
    "kernelspec": {
      "name": "python3",
      "display_name": "Python 3"
    },
    "language_info": {
      "name": "python"
    }
  },
  "cells": [
    {
      "cell_type": "code",
      "execution_count": null,
      "metadata": {
        "id": "IZJIhwzm8cJv"
      },
      "outputs": [],
      "source": [
        "import numpy as np\n"
      ]
    },
    {
      "cell_type": "code",
      "source": [
        "class Perceptron:\n",
        "  def __init__(self,input_size,learning_rate=0.1):\n",
        "    self.weights=np.zeros(input_size)\n",
        "    self.bias=0\n",
        "    self.learning_rate=learning_rate\n",
        "\n",
        "  def predict(self,inputs):\n",
        "    weighted_sum=np.dot(self.weights,inputs)+self.bias\n",
        "    if weighted_sum>=0:\n",
        "      return 1\n",
        "    else:\n",
        "      return 0\n",
        "\n",
        "  def train(self,inputs,label):\n",
        "    prediction=self.predict(inputs)\n",
        "    error =label-prediction\n",
        "    self.weights += self.learning_rate*error*inputs\n",
        "    self.bias+=self.learning_rate*error\n",
        "\n",
        "training_data={\n",
        "      \"48\":1,\n",
        "      \"49\":0,\n",
        "      \"50\":1,\n",
        "      \"51\":0,\n",
        "      \"52\":1,\n",
        "      \"53\":0,\n",
        "      \"54\":1,\n",
        "      \"55\":0,\n",
        "      \"56\":1,\n",
        "      \"57\":0,\n",
        "}           \n",
        "\n",
        "perceptron = Perceptron(input_size=7)\n",
        "\n",
        "for ascii_code, label in training_data.items():\n",
        "  inputs=np.array([int(b) for b in bin(int(ascii_code))[2:].zfill(7)]) \n",
        "  perceptron.train(inputs,label)\n"
      ],
      "metadata": {
        "id": "eVk8WsAW9gzF"
      },
      "execution_count": null,
      "outputs": []
    },
    {
      "cell_type": "code",
      "source": [
        "test_data = {\n",
        "    \"48\": \"even\", \n",
        "    \"49\": \"odd\", \n",
        "    \"50\": \"even\", \n",
        "    \"51\": \"odd\", \n",
        "    \"52\": \"even\",\n",
        "    \"53\": \"odd\", \n",
        "    \"54\": \"even\", \n",
        "    \"55\": \"odd\", \n",
        "    \"56\": \"even\", \n",
        "    \"57\": \"odd\", \n",
        "}\n",
        "for ascii_code, expected_output in test_data.items():\n",
        "    inputs = np.array([int(b) for b in bin(int(ascii_code))[2:].zfill(7)])\n",
        "    output = perceptron.predict(inputs)\n",
        "    if output == 1:\n",
        "        print(f\"'{chr(int(ascii_code))}' is {expected_output}.\")\n",
        "    else:\n",
        "        print(f\"'{chr(int(ascii_code))}' is {expected_output}.\")\n"
      ],
      "metadata": {
        "colab": {
          "base_uri": "https://localhost:8080/"
        },
        "id": "yGYHH50J-koB",
        "outputId": "11547fae-0f68-4110-9109-68d52701f4b5"
      },
      "execution_count": null,
      "outputs": [
        {
          "output_type": "stream",
          "name": "stdout",
          "text": [
            "'0' is even.\n",
            "'1' is odd.\n",
            "'2' is even.\n",
            "'3' is odd.\n",
            "'4' is even.\n",
            "'5' is odd.\n",
            "'6' is even.\n",
            "'7' is odd.\n",
            "'8' is even.\n",
            "'9' is odd.\n"
          ]
        }
      ]
    },
    {
      "cell_type": "code",
      "source": [],
      "metadata": {
        "id": "aRZcNzpmDvfw"
      },
      "execution_count": null,
      "outputs": []
    }
  ]
}