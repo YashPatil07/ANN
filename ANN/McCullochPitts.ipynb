{
  "nbformat": 4,
  "nbformat_minor": 0,
  "metadata": {
    "colab": {
      "provenance": []
    },
    "kernelspec": {
      "name": "python3",
      "display_name": "Python 3"
    },
    "language_info": {
      "name": "python"
    }
  },
  "cells": [
    {
      "cell_type": "code",
      "execution_count": null,
      "metadata": {
        "id": "RpQ_x9WhyXAg"
      },
      "outputs": [],
      "source": [
        "import numpy as np\n",
        "import matplotlib.pyplot as plt"
      ]
    },
    {
      "cell_type": "code",
      "source": [
        "input_table=np.array([\n",
        "    [0,0],\n",
        "    [0,1],\n",
        "    [1,0],\n",
        "    [1,1],\n",
        "])\n",
        "    \n",
        "print(f'input table:\\n{input_table}')    "
      ],
      "metadata": {
        "colab": {
          "base_uri": "https://localhost:8080/"
        },
        "id": "HV1hyC5AzSzy",
        "outputId": "3e1724aa-b6a2-49da-8fd8-15d06d715de7"
      },
      "execution_count": null,
      "outputs": [
        {
          "output_type": "stream",
          "name": "stdout",
          "text": [
            "input table:\n",
            "[[0 0]\n",
            " [0 1]\n",
            " [1 0]\n",
            " [1 1]]\n"
          ]
        }
      ]
    },
    {
      "cell_type": "code",
      "source": [
        "weights=np.array([3,-2])\n",
        "print(f'weight:{weights}')"
      ],
      "metadata": {
        "colab": {
          "base_uri": "https://localhost:8080/"
        },
        "id": "Kf60af1s2kbv",
        "outputId": "353919be-909f-4aa3-bb50-f0befe65e06e"
      },
      "execution_count": null,
      "outputs": [
        {
          "output_type": "stream",
          "name": "stdout",
          "text": [
            "weight:[ 3 -2]\n"
          ]
        }
      ]
    },
    {
      "cell_type": "code",
      "source": [
        "dot_products=input_table@weights\n",
        "print(f'Dot products: {dot_products}')"
      ],
      "metadata": {
        "colab": {
          "base_uri": "https://localhost:8080/"
        },
        "id": "T5ON6bsn25cV",
        "outputId": "f24c849d-3a64-45eb-e270-d7176f7183a1"
      },
      "execution_count": null,
      "outputs": [
        {
          "output_type": "stream",
          "name": "stdout",
          "text": [
            "Dot products: [ 0 -2  3  1]\n"
          ]
        }
      ]
    },
    {
      "cell_type": "code",
      "source": [
        "# Define the linear threshold function\n",
        "def linear_threshold_gate(x, T):\n",
        "    return int(x >= T)\n",
        "T=2\n",
        "for i in range(0,4):\n",
        "  activation=linear_threshold_gate(dot_products[i],T)\n",
        "  print(f'Activation:{activation}')"
      ],
      "metadata": {
        "colab": {
          "base_uri": "https://localhost:8080/"
        },
        "id": "stMrmkQB4CIG",
        "outputId": "62ef6be2-feb2-4358-c9e4-41b1f64c9202"
      },
      "execution_count": null,
      "outputs": [
        {
          "output_type": "stream",
          "name": "stdout",
          "text": [
            "Activation:0\n",
            "Activation:0\n",
            "Activation:1\n",
            "Activation:0\n"
          ]
        }
      ]
    },
    {
      "cell_type": "code",
      "source": [],
      "metadata": {
        "id": "eptKhqdf5h6W"
      },
      "execution_count": null,
      "outputs": []
    }
  ]
}