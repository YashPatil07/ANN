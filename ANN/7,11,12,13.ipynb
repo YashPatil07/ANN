{
  "nbformat": 4,
  "nbformat_minor": 0,
  "metadata": {
    "colab": {
      "provenance": [],
      "gpuType": "T4"
    },
    "kernelspec": {
      "name": "python3",
      "display_name": "Python 3"
    },
    "language_info": {
      "name": "python"
    },
    "accelerator": "GPU",
    "gpuClass": "standard"
  },
  "cells": [
    {
      "cell_type": "markdown",
      "source": [
        "### ANN assignment number 7"
      ],
      "metadata": {
        "id": "1PKFgXsz6h5P"
      }
    },
    {
      "cell_type": "code",
      "source": [
        "print('Rupesh')"
      ],
      "metadata": {
        "colab": {
          "base_uri": "https://localhost:8080/"
        },
        "id": "XD0S916jUvzF",
        "outputId": "ced3d001-3684-4af1-e866-4db8df0953f5"
      },
      "execution_count": null,
      "outputs": [
        {
          "output_type": "stream",
          "name": "stdout",
          "text": [
            "Rupesh\n"
          ]
        }
      ]
    },
    {
      "cell_type": "code",
      "source": [
        "#importing all required libraries\n",
        "import tensorflow as tf\n",
        "import numpy as np"
      ],
      "metadata": {
        "id": "9qCYvbjtF3si"
      },
      "execution_count": null,
      "outputs": []
    },
    {
      "cell_type": "code",
      "source": [
        "#Create the inputs and outputs\n",
        "x=np.array([[0,0],[0,1],[1,0],[1,1]])\n",
        "y=np.array([0,1,1,0])"
      ],
      "metadata": {
        "id": "nehWfj1IF7iE"
      },
      "execution_count": null,
      "outputs": []
    },
    {
      "cell_type": "code",
      "source": [
        "#Create a neural network which takes 4 inputs and gives one output\n",
        "model=tf.keras.Sequential([\n",
        "    tf.keras.layers.Flatten(),\n",
        "    tf.keras.layers.Dense(2,activation='elu',kernel_initializer='HeNormal'),\n",
        "    tf.keras.layers.Dense(1,activation='elu',kernel_initializer='HeNormal'),\n",
        "])\n",
        "model.compile(loss=tf.keras.losses.MeanSquaredError(),metrics=['accuracy'],optimizer=tf.keras.optimizers.Adam(learning_rate=0.01))"
      ],
      "metadata": {
        "id": "82dZJ_YkG7C4"
      },
      "execution_count": null,
      "outputs": []
    },
    {
      "cell_type": "code",
      "source": [
        "#Look at what the weights are initially\n",
        "model.build((None,2))\n",
        "model.weights"
      ],
      "metadata": {
        "colab": {
          "base_uri": "https://localhost:8080/"
        },
        "id": "irMdb1E1XKt3",
        "outputId": "ab1599a1-1c09-4c14-de00-9c858bb28c5d"
      },
      "execution_count": null,
      "outputs": [
        {
          "output_type": "execute_result",
          "data": {
            "text/plain": [
              "[<tf.Variable 'dense/kernel:0' shape=(2, 2) dtype=float32, numpy=\n",
              " array([[ 1.9072981 , -0.26771167],\n",
              "        [-0.45173278,  0.6576625 ]], dtype=float32)>,\n",
              " <tf.Variable 'dense/bias:0' shape=(2,) dtype=float32, numpy=array([0., 0.], dtype=float32)>,\n",
              " <tf.Variable 'dense_1/kernel:0' shape=(2, 1) dtype=float32, numpy=\n",
              " array([[0.7145134],\n",
              "        [0.9330334]], dtype=float32)>,\n",
              " <tf.Variable 'dense_1/bias:0' shape=(1,) dtype=float32, numpy=array([0.], dtype=float32)>]"
            ]
          },
          "metadata": {},
          "execution_count": 4
        }
      ]
    },
    {
      "cell_type": "code",
      "source": [
        "model.summary()"
      ],
      "metadata": {
        "colab": {
          "base_uri": "https://localhost:8080/"
        },
        "id": "Zg3khTsUIXsy",
        "outputId": "d07e06cc-35c6-41ae-eeaf-38577a6eca37"
      },
      "execution_count": null,
      "outputs": [
        {
          "output_type": "stream",
          "name": "stdout",
          "text": [
            "Model: \"sequential\"\n",
            "_________________________________________________________________\n",
            " Layer (type)                Output Shape              Param #   \n",
            "=================================================================\n",
            " flatten (Flatten)           (None, 2)                 0         \n",
            "                                                                 \n",
            " dense (Dense)               (None, 2)                 6         \n",
            "                                                                 \n",
            " dense_1 (Dense)             (None, 1)                 3         \n",
            "                                                                 \n",
            "=================================================================\n",
            "Total params: 9\n",
            "Trainable params: 9\n",
            "Non-trainable params: 0\n",
            "_________________________________________________________________\n"
          ]
        }
      ]
    },
    {
      "cell_type": "code",
      "source": [
        "#Using backpropagation to fine tune the weights\n",
        "model.fit(x,y,epochs=10)"
      ],
      "metadata": {
        "id": "i2tjLd5_G8U4",
        "colab": {
          "base_uri": "https://localhost:8080/"
        },
        "outputId": "e5533017-c8a8-4c4f-bc9b-2a5ab23c059b"
      },
      "execution_count": null,
      "outputs": [
        {
          "output_type": "stream",
          "name": "stdout",
          "text": [
            "Epoch 1/10\n",
            "1/1 [==============================] - 0s 13ms/step - loss: 8.2867e-13 - accuracy: 1.0000\n",
            "Epoch 2/10\n",
            "1/1 [==============================] - 0s 11ms/step - loss: 8.2867e-13 - accuracy: 1.0000\n",
            "Epoch 3/10\n",
            "1/1 [==============================] - 0s 11ms/step - loss: 8.2867e-13 - accuracy: 1.0000\n",
            "Epoch 4/10\n",
            "1/1 [==============================] - 0s 11ms/step - loss: 8.2867e-13 - accuracy: 1.0000\n",
            "Epoch 5/10\n",
            "1/1 [==============================] - 0s 12ms/step - loss: 8.2867e-13 - accuracy: 1.0000\n",
            "Epoch 6/10\n",
            "1/1 [==============================] - 0s 10ms/step - loss: 8.2867e-13 - accuracy: 1.0000\n",
            "Epoch 7/10\n",
            "1/1 [==============================] - 0s 10ms/step - loss: 8.2867e-13 - accuracy: 1.0000\n",
            "Epoch 8/10\n",
            "1/1 [==============================] - 0s 10ms/step - loss: 8.2867e-13 - accuracy: 1.0000\n",
            "Epoch 9/10\n",
            "1/1 [==============================] - 0s 12ms/step - loss: 8.2867e-13 - accuracy: 1.0000\n",
            "Epoch 10/10\n",
            "1/1 [==============================] - 0s 8ms/step - loss: 8.2867e-13 - accuracy: 1.0000\n"
          ]
        },
        {
          "output_type": "execute_result",
          "data": {
            "text/plain": [
              "<keras.callbacks.History at 0x7f1dda5c18d0>"
            ]
          },
          "metadata": {},
          "execution_count": 12
        }
      ]
    },
    {
      "cell_type": "code",
      "source": [
        "#Look how the weights have changed due to backpropagation\n",
        "model.weights"
      ],
      "metadata": {
        "colab": {
          "base_uri": "https://localhost:8080/"
        },
        "id": "k9Ong3UgJhs4",
        "outputId": "596a2cff-b893-4d0d-a33f-9ceaba0c8286"
      },
      "execution_count": null,
      "outputs": [
        {
          "output_type": "execute_result",
          "data": {
            "text/plain": [
              "[<tf.Variable 'dense_2/kernel:0' shape=(2, 2) dtype=float32, numpy=\n",
              " array([[ 1.6678782, -2.2451355],\n",
              "        [-1.0720377,  1.1789134]], dtype=float32)>,\n",
              " <tf.Variable 'dense_2/bias:0' shape=(2,) dtype=float32, numpy=array([ 0.07807786, -0.4578345 ], dtype=float32)>,\n",
              " <tf.Variable 'dense_3/kernel:0' shape=(2, 1) dtype=float32, numpy=\n",
              " array([[1.169034],\n",
              "        [1.679157]], dtype=float32)>,\n",
              " <tf.Variable 'dense_3/bias:0' shape=(1,) dtype=float32, numpy=array([0.5255597], dtype=float32)>]"
            ]
          },
          "metadata": {},
          "execution_count": 13
        }
      ]
    },
    {
      "cell_type": "code",
      "source": [
        "model.predict(x)"
      ],
      "metadata": {
        "colab": {
          "base_uri": "https://localhost:8080/"
        },
        "id": "jKMdteUEK5R6",
        "outputId": "7dd8d85b-2106-4739-c540-ca8b10039d87"
      },
      "execution_count": null,
      "outputs": [
        {
          "output_type": "stream",
          "name": "stdout",
          "text": [
            "1/1 [==============================] - 0s 80ms/step\n"
          ]
        },
        {
          "output_type": "execute_result",
          "data": {
            "text/plain": [
              "array([[7.1525574e-07],\n",
              "       [9.9999952e-01],\n",
              "       [9.9999863e-01],\n",
              "       [8.3446503e-07]], dtype=float32)"
            ]
          },
          "metadata": {},
          "execution_count": 14
        }
      ]
    },
    {
      "cell_type": "code",
      "source": [
        "import matplotlib.pyplot as plt\n",
        "plt.figure(figsize=(2,2))\n",
        "plt.scatter(y,model.predict(x))\n",
        "plt.show()"
      ],
      "metadata": {
        "id": "2lyQFtG-Y7yr",
        "colab": {
          "base_uri": "https://localhost:8080/",
          "height": 231
        },
        "outputId": "d7eceed9-2ea8-48f1-95ba-0edf5451f17a"
      },
      "execution_count": null,
      "outputs": [
        {
          "output_type": "stream",
          "name": "stdout",
          "text": [
            "1/1 [==============================] - 0s 22ms/step\n"
          ]
        },
        {
          "output_type": "display_data",
          "data": {
            "text/plain": [
              "<Figure size 200x200 with 1 Axes>"
            ],
            "image/png": "[encoded data removed]"
          },
          "metadata": {}
        }
      ]
    },
    {
      "cell_type": "markdown",
      "source": [
        "### ANN assignment no 11 and 12"
      ],
      "metadata": {
        "id": "BjY-ATlj6vlT"
      }
    },
    {
      "cell_type": "markdown",
      "source": [
        "<h3><b>Name is Rupesh</b></h3>"
      ],
      "metadata": {
        "id": "zOWI1aEgEolF"
      }
    },
    {
      "cell_type": "markdown",
      "source": [
        "Its image classification challenge. So we are going to use CIFAR-10 dataset for image classification"
      ],
      "metadata": {
        "id": "83rmIiw67MYC"
      }
    },
    {
      "cell_type": "code",
      "source": [
        "#Import all libraries\n",
        "import tensorflow as tf\n",
        "import numpy as np\n",
        "import matplotlib.pyplot as plt"
      ],
      "metadata": {
        "id": "tmYRdN5l62lQ"
      },
      "execution_count": null,
      "outputs": []
    },
    {
      "cell_type": "code",
      "source": [
        "#getting the dataset\n",
        "(x_train, y_train), (x_test, y_test) = tf.keras.datasets.cifar10.load_data()"
      ],
      "metadata": {
        "colab": {
          "base_uri": "https://localhost:8080/"
        },
        "id": "hQykJQFS7gt2",
        "outputId": "2ef582a8-0ddc-46df-e415-6ef3a62b5250"
      },
      "execution_count": null,
      "outputs": [
        {
          "output_type": "stream",
          "name": "stdout",
          "text": [
            "Downloading data from https://www.cs.toronto.edu/~kriz/cifar-10-python.tar.gz\n",
            "170498071/170498071 [==============================] - 13s 0us/step\n"
          ]
        }
      ]
    },
    {
      "cell_type": "code",
      "source": [
        "#Seeing some to the images\n",
        "fig,axes=plt.subplots(2,3)\n",
        "for i, ax in enumerate(axes.flat):\n",
        "  ax.imshow(x_train[i])\n",
        "  ax.axis('off')"
      ],
      "metadata": {
        "colab": {
          "base_uri": "https://localhost:8080/",
          "height": 384
        },
        "id": "gwvBi2Md7tXR",
        "outputId": "f5ae1311-ba0d-4903-ebaa-616b856ff592"
      },
      "execution_count": null,
      "outputs": [
        {
          "output_type": "display_data",
          "data": {
            "text/plain": [
              "<Figure size 640x480 with 6 Axes>"
            ],
            "image/png": "[encoded data removed]"
          },
          "metadata": {}
        }
      ]
    },
    {
      "cell_type": "code",
      "source": [
        "# Here we use datagen image augmentation and normalizing the images\n",
        "train_datagen=tf.keras.preprocessing.image.ImageDataGenerator(\n",
        "    rescale=1/255. ,\n",
        "    rotation_range=0.15,\n",
        "    horizontal_flip=True,\n",
        "    width_shift_range=0.1\n",
        ")\n",
        "test_datagen=tf.keras.preprocessing.image.ImageDataGenerator(rescale=1/255.)"
      ],
      "metadata": {
        "id": "ennNO69SADlL"
      },
      "execution_count": null,
      "outputs": []
    },
    {
      "cell_type": "code",
      "source": [
        "#Lets create a simple CNN for image classification\n",
        "model=tf.keras.Sequential([\n",
        "    tf.keras.layers.Conv2D(64,kernel_size=3,padding='same'),\n",
        "    tf.keras.layers.MaxPool2D(),\n",
        "    tf.keras.layers.Conv2D(128,kernel_size=3,padding='same'),\n",
        "    tf.keras.layers.MaxPool2D(),\n",
        "    tf.keras.layers.Conv2D(128,kernel_size=3,padding='same'),\n",
        "    tf.keras.layers.Dropout(0.5),\n",
        "    tf.keras.layers.Flatten(),\n",
        "    tf.keras.layers.Dense(10,activation='softmax')\n",
        "])"
      ],
      "metadata": {
        "id": "2xG7kEkoDXwU"
      },
      "execution_count": null,
      "outputs": []
    },
    {
      "cell_type": "code",
      "source": [
        "model.compile(loss=tf.keras.losses.SparseCategoricalCrossentropy(),metrics=[tf.keras.metrics.SparseCategoricalAccuracy()],optimizer=tf.keras.optimizers.Adam())"
      ],
      "metadata": {
        "id": "2bZZH892Enng"
      },
      "execution_count": null,
      "outputs": []
    },
    {
      "cell_type": "code",
      "source": [
        "model.fit(train_datagen.flow(x_train,y_train,batch_size=32),validation_data=test_datagen.flow(x_test,y_test),epochs=12)"
      ],
      "metadata": {
        "id": "2PQmhUzkErTF",
        "colab": {
          "base_uri": "https://localhost:8080/"
        },
        "outputId": "f0991944-ee7c-451f-fa3f-a4e8043bb69f"
      },
      "execution_count": null,
      "outputs": [
        {
          "output_type": "stream",
          "name": "stdout",
          "text": [
            "Epoch 1/12\n",
            "1563/1563 [==============================] - 34s 21ms/step - loss: 1.4858 - sparse_categorical_accuracy: 0.4794 - val_loss: 1.2412 - val_sparse_categorical_accuracy: 0.5683\n",
            "Epoch 2/12\n",
            "1563/1563 [==============================] - 33s 21ms/step - loss: 1.2697 - sparse_categorical_accuracy: 0.5631 - val_loss: 1.1609 - val_sparse_categorical_accuracy: 0.6005\n",
            "Epoch 3/12\n",
            "1563/1563 [==============================] - 36s 23ms/step - loss: 1.2291 - sparse_categorical_accuracy: 0.5775 - val_loss: 1.1195 - val_sparse_categorical_accuracy: 0.6207\n",
            "Epoch 4/12\n",
            "1563/1563 [==============================] - 33s 21ms/step - loss: 1.1961 - sparse_categorical_accuracy: 0.5916 - val_loss: 1.0791 - val_sparse_categorical_accuracy: 0.6285\n",
            "Epoch 5/12\n",
            "1563/1563 [==============================] - 34s 21ms/step - loss: 1.1798 - sparse_categorical_accuracy: 0.6000 - val_loss: 1.0832 - val_sparse_categorical_accuracy: 0.6336\n",
            "Epoch 6/12\n",
            "1563/1563 [==============================] - 33s 21ms/step - loss: 1.1552 - sparse_categorical_accuracy: 0.6074 - val_loss: 1.0878 - val_sparse_categorical_accuracy: 0.6450\n",
            "Epoch 7/12\n",
            "1563/1563 [==============================] - 34s 22ms/step - loss: 1.1640 - sparse_categorical_accuracy: 0.6053 - val_loss: 1.1535 - val_sparse_categorical_accuracy: 0.6181\n",
            "Epoch 8/12\n",
            "1563/1563 [==============================] - 45s 29ms/step - loss: 1.1518 - sparse_categorical_accuracy: 0.6080 - val_loss: 1.1427 - val_sparse_categorical_accuracy: 0.6247\n",
            "Epoch 9/12\n",
            "1563/1563 [==============================] - 49s 31ms/step - loss: 1.1415 - sparse_categorical_accuracy: 0.6128 - val_loss: 1.0644 - val_sparse_categorical_accuracy: 0.6422\n",
            "Epoch 10/12\n",
            "1563/1563 [==============================] - 45s 29ms/step - loss: 1.1493 - sparse_categorical_accuracy: 0.6110 - val_loss: 1.0399 - val_sparse_categorical_accuracy: 0.6475\n",
            "Epoch 11/12\n",
            "1563/1563 [==============================] - 38s 24ms/step - loss: 1.1283 - sparse_categorical_accuracy: 0.6190 - val_loss: 1.0618 - val_sparse_categorical_accuracy: 0.6385\n",
            "Epoch 12/12\n",
            "1563/1563 [==============================] - 40s 26ms/step - loss: 1.1288 - sparse_categorical_accuracy: 0.6166 - val_loss: 1.0014 - val_sparse_categorical_accuracy: 0.6718\n"
          ]
        },
        {
          "output_type": "execute_result",
          "data": {
            "text/plain": [
              "<keras.callbacks.History at 0x7f39f8206d70>"
            ]
          },
          "metadata": {},
          "execution_count": 36
        }
      ]
    },
    {
      "cell_type": "markdown",
      "source": [
        "got 67.18% accuracy with very simple model"
      ],
      "metadata": {
        "id": "K9iWtKjcEVdt"
      }
    },
    {
      "cell_type": "code",
      "source": [
        "model.summary()"
      ],
      "metadata": {
        "colab": {
          "base_uri": "https://localhost:8080/"
        },
        "id": "-wmNV01UFME6",
        "outputId": "9f052165-0fc0-4484-c6c4-ffd30240b7db"
      },
      "execution_count": null,
      "outputs": [
        {
          "output_type": "stream",
          "name": "stdout",
          "text": [
            "Model: \"sequential_5\"\n",
            "_________________________________________________________________\n",
            " Layer (type)                Output Shape              Param #   \n",
            "=================================================================\n",
            " conv2d_15 (Conv2D)          (None, None, None, 64)    1792      \n",
            "                                                                 \n",
            " max_pooling2d_7 (MaxPooling  (None, None, None, 64)   0         \n",
            " 2D)                                                             \n",
            "                                                                 \n",
            " conv2d_16 (Conv2D)          (None, None, None, 128)   73856     \n",
            "                                                                 \n",
            " max_pooling2d_8 (MaxPooling  (None, None, None, 128)  0         \n",
            " 2D)                                                             \n",
            "                                                                 \n",
            " conv2d_17 (Conv2D)          (None, None, None, 128)   147584    \n",
            "                                                                 \n",
            " dropout_1 (Dropout)         (None, None, None, 128)   0         \n",
            "                                                                 \n",
            " flatten_5 (Flatten)         (None, None)              0         \n",
            "                                                                 \n",
            " dense_5 (Dense)             (None, 10)                81930     \n",
            "                                                                 \n",
            "=================================================================\n",
            "Total params: 305,162\n",
            "Trainable params: 305,162\n",
            "Non-trainable params: 0\n",
            "_________________________________________________________________\n"
          ]
        }
      ]
    },
    {
      "cell_type": "markdown",
      "source": [
        "### ANN assignment No 13"
      ],
      "metadata": {
        "id": "w6kMsLVt_axJ"
      }
    },
    {
      "cell_type": "markdown",
      "source": [
        "<h3><b>Name is Rupesh</b></h3>"
      ],
      "metadata": {
        "id": "djK1HAY7Effv"
      }
    },
    {
      "cell_type": "markdown",
      "source": [
        "Handwritten Digit Recognition"
      ],
      "metadata": {
        "id": "yoBLEGKV_fDh"
      }
    },
    {
      "cell_type": "code",
      "source": [
        "import tensorflow as tf\n",
        "import numpy as np\n",
        "import matplotlib.pyplot as plt"
      ],
      "metadata": {
        "id": "xzT80YIe_jLu"
      },
      "execution_count": null,
      "outputs": []
    },
    {
      "cell_type": "code",
      "source": [
        "(x_train,y_train),(x_test,y_test)=tf.keras.datasets.mnist.load_data()"
      ],
      "metadata": {
        "id": "nrzhSt81_pr9"
      },
      "execution_count": null,
      "outputs": []
    },
    {
      "cell_type": "code",
      "source": [
        "x_train,x_test=x_train[...,np.newaxis],x_test[...,np.newaxis]"
      ],
      "metadata": {
        "id": "FYOamznNBhtr"
      },
      "execution_count": null,
      "outputs": []
    },
    {
      "cell_type": "code",
      "source": [
        "fig,axes=plt.subplots(2,3)\n",
        "for i,ax in enumerate(axes.flat):\n",
        "  ax.imshow(x_train[i],cmap='binary')\n",
        "  ax.axis('off')"
      ],
      "metadata": {
        "colab": {
          "base_uri": "https://localhost:8080/",
          "height": 384
        },
        "id": "S2AJGehp_zFP",
        "outputId": "080db4e6-1df3-4b9b-89d5-48898e317c93"
      },
      "execution_count": null,
      "outputs": [
        {
          "output_type": "display_data",
          "data": {
            "text/plain": [
              "<Figure size 640x480 with 6 Axes>"
            ],
            "image/png": "[encoded data removed]"
          },
          "metadata": {}
        }
      ]
    },
    {
      "cell_type": "code",
      "source": [
        "train_datagen=tf.keras.preprocessing.image.ImageDataGenerator(\n",
        "    rotation_range=0.12,\n",
        "    width_shift_range=0.05,\n",
        "    rescale=1/255.\n",
        ")\n",
        "test_datagen=tf.keras.preprocessing.image.ImageDataGenerator(rescale=1/255.)"
      ],
      "metadata": {
        "id": "8H6hRfUhAG2h"
      },
      "execution_count": null,
      "outputs": []
    },
    {
      "cell_type": "code",
      "source": [
        "model=tf.keras.Sequential([\n",
        "    tf.keras.layers.Conv2D(64,kernel_size=3,padding='same'),\n",
        "    tf.keras.layers.MaxPool2D(),\n",
        "    tf.keras.layers.Conv2D(128,kernel_size=3,padding='same'),\n",
        "    tf.keras.layers.MaxPool2D(),\n",
        "    tf.keras.layers.Conv2D(128,kernel_size=3,padding='same'),\n",
        "    tf.keras.layers.Dropout(0.5),\n",
        "    tf.keras.layers.Flatten(),\n",
        "    tf.keras.layers.Dense(10,activation='softmax')\n",
        "])"
      ],
      "metadata": {
        "id": "4gOKAf1FAxzz"
      },
      "execution_count": null,
      "outputs": []
    },
    {
      "cell_type": "code",
      "source": [
        "model.compile(loss=tf.keras.losses.SparseCategoricalCrossentropy(),metrics=[tf.keras.metrics.SparseCategoricalAccuracy()],optimizer=tf.keras.optimizers.Adam())"
      ],
      "metadata": {
        "id": "nim_IizTA5aI"
      },
      "execution_count": null,
      "outputs": []
    },
    {
      "cell_type": "code",
      "source": [
        "model.fit(train_datagen.flow(x_train,y_train,batch_size=32),validation_data=test_datagen.flow(x_test,y_test),epochs=12)"
      ],
      "metadata": {
        "colab": {
          "base_uri": "https://localhost:8080/"
        },
        "id": "t3TNRRuyA_LD",
        "outputId": "e92fa723-45d0-40fe-baf4-8eabc953513b"
      },
      "execution_count": null,
      "outputs": [
        {
          "output_type": "stream",
          "name": "stdout",
          "text": [
            "Epoch 1/12\n",
            "1875/1875 [==============================] - 27s 14ms/step - loss: 0.1811 - sparse_categorical_accuracy: 0.9432 - val_loss: 0.0567 - val_sparse_categorical_accuracy: 0.9817\n",
            "Epoch 2/12\n",
            "1875/1875 [==============================] - 25s 13ms/step - loss: 0.1040 - sparse_categorical_accuracy: 0.9690 - val_loss: 0.1363 - val_sparse_categorical_accuracy: 0.9597\n",
            "Epoch 3/12\n",
            "1875/1875 [==============================] - 35s 18ms/step - loss: 0.0989 - sparse_categorical_accuracy: 0.9714 - val_loss: 0.0714 - val_sparse_categorical_accuracy: 0.9777\n",
            "Epoch 4/12\n",
            "1875/1875 [==============================] - 33s 17ms/step - loss: 0.0926 - sparse_categorical_accuracy: 0.9734 - val_loss: 0.0595 - val_sparse_categorical_accuracy: 0.9818\n",
            "Epoch 5/12\n",
            "1875/1875 [==============================] - 35s 19ms/step - loss: 0.0960 - sparse_categorical_accuracy: 0.9734 - val_loss: 0.0604 - val_sparse_categorical_accuracy: 0.9824\n",
            "Epoch 6/12\n",
            "1875/1875 [==============================] - 25s 14ms/step - loss: 0.0896 - sparse_categorical_accuracy: 0.9759 - val_loss: 0.0558 - val_sparse_categorical_accuracy: 0.9864\n",
            "Epoch 7/12\n",
            "1875/1875 [==============================] - 26s 14ms/step - loss: 0.0959 - sparse_categorical_accuracy: 0.9756 - val_loss: 0.0489 - val_sparse_categorical_accuracy: 0.9860\n",
            "Epoch 8/12\n",
            "1875/1875 [==============================] - 36s 19ms/step - loss: 0.0949 - sparse_categorical_accuracy: 0.9765 - val_loss: 0.0595 - val_sparse_categorical_accuracy: 0.9839\n",
            "Epoch 9/12\n",
            "1875/1875 [==============================] - 25s 13ms/step - loss: 0.0966 - sparse_categorical_accuracy: 0.9761 - val_loss: 0.0674 - val_sparse_categorical_accuracy: 0.9832\n",
            "Epoch 10/12\n",
            "1875/1875 [==============================] - 26s 14ms/step - loss: 0.0979 - sparse_categorical_accuracy: 0.9776 - val_loss: 0.0880 - val_sparse_categorical_accuracy: 0.9803\n",
            "Epoch 11/12\n",
            "1875/1875 [==============================] - 25s 13ms/step - loss: 0.1024 - sparse_categorical_accuracy: 0.9769 - val_loss: 0.1112 - val_sparse_categorical_accuracy: 0.9796\n",
            "Epoch 12/12\n",
            "1875/1875 [==============================] - 25s 13ms/step - loss: 0.1071 - sparse_categorical_accuracy: 0.9771 - val_loss: 0.0883 - val_sparse_categorical_accuracy: 0.9831\n"
          ]
        },
        {
          "output_type": "execute_result",
          "data": {
            "text/plain": [
              "<keras.callbacks.History at 0x7f3a089d67a0>"
            ]
          },
          "metadata": {},
          "execution_count": 47
        }
      ]
    },
    {
      "cell_type": "markdown",
      "source": [
        "got 98.31% accuracy with a very simple model"
      ],
      "metadata": {
        "id": "ehU3nkSBEMbe"
      }
    },
    {
      "cell_type": "code",
      "source": [
        "#What those images actually are\n",
        "fig,axes=plt.subplots(1,5)\n",
        "for i,ax in enumerate(axes.flat):\n",
        "  ax.imshow(x_test[i],cmap='binary')\n",
        "  ax.axis('off')"
      ],
      "metadata": {
        "colab": {
          "base_uri": "https://localhost:8080/",
          "height": 122
        },
        "id": "GoLv8vVyCK_t",
        "outputId": "9f1a8cb0-d7ce-4aea-eb57-d4fb08c2b4ae"
      },
      "execution_count": null,
      "outputs": [
        {
          "output_type": "display_data",
          "data": {
            "text/plain": [
              "<Figure size 640x480 with 5 Axes>"
            ],
            "image/png": "[encoded data removed]"
          },
          "metadata": {}
        }
      ]
    },
    {
      "cell_type": "code",
      "source": [
        "# And this is what the model predicts about above images\n",
        "np.argmax(model.predict(x_test[:5]),axis=0)[:5]"
      ],
      "metadata": {
        "colab": {
          "base_uri": "https://localhost:8080/"
        },
        "id": "qglR9PBXBewX",
        "outputId": "4ee36a27-7875-4219-bb20-ab1b28f6cad5"
      },
      "execution_count": null,
      "outputs": [
        {
          "output_type": "stream",
          "name": "stdout",
          "text": [
            "1/1 [==============================] - 0s 19ms/step\n"
          ]
        },
        {
          "output_type": "execute_result",
          "data": {
            "text/plain": [
              "array([3, 2, 1, 0, 4])"
            ]
          },
          "metadata": {},
          "execution_count": 53
        }
      ]
    }
  ]
}