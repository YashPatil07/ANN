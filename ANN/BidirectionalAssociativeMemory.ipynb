{
  "nbformat": 4,
  "nbformat_minor": 0,
  "metadata": {
    "colab": {
      "provenance": []
    },
    "kernelspec": {
      "name": "python3",
      "display_name": "Python 3"
    },
    "language_info": {
      "name": "python"
    }
  },
  "cells": [
    {
      "cell_type": "code",
      "execution_count": null,
      "metadata": {
        "id": "0BhnOBiIupE_"
      },
      "outputs": [],
      "source": [
        "import numpy as np\n",
        "import random\n",
        "import math"
      ]
    },
    {
      "cell_type": "code",
      "source": [
        "X1=[1,1,1,1,1,1]\n",
        "X2=[-1,-1,-1,-1,-1,-1]\n",
        "X3=[1,-1,-1,1,1,1]\n",
        "X4=[1,1,-1,-1,-1,-1]\n",
        "\n",
        "X=np.array([X1,X2,X3,X4])\n",
        "\n",
        "Y1=[1,1,1]\n",
        "Y2=[-1,-1,-1]\n",
        "Y3=[-1,1,1]\n",
        "Y4=[1,-1,1]\n",
        "\n",
        "Y=np.array([Y1,Y2,Y3,Y4])\n",
        "\n",
        "print(\"X=\",X)\n",
        "print(\"\\nY=\",Y)\n",
        "print(\"\\n\\n Dimensions of X : \",X.shape)\n",
        "print(\"\\n Dimensions of Y : \",Y.shape)"
      ],
      "metadata": {
        "colab": {
          "base_uri": "https://localhost:8080/"
        },
        "id": "Vg4DyhpFwG4N",
        "outputId": "cda91c4d-94ce-49c4-a554-f2bbb6cf513d"
      },
      "execution_count": null,
      "outputs": [
        {
          "output_type": "stream",
          "name": "stdout",
          "text": [
            "X= [[ 1  1  1  1  1  1]\n",
            " [-1 -1 -1 -1 -1 -1]\n",
            " [ 1 -1 -1  1  1  1]\n",
            " [ 1  1 -1 -1 -1 -1]]\n",
            "\n",
            "Y= [[ 1  1  1]\n",
            " [-1 -1 -1]\n",
            " [-1  1  1]\n",
            " [ 1 -1  1]]\n",
            "\n",
            "\n",
            " Dimensions of X :  (4, 6)\n",
            "\n",
            " Dimensions of Y :  (4, 3)\n"
          ]
        }
      ]
    },
    {
      "cell_type": "code",
      "source": [
        "def calWeight(X,Y):\n",
        "  return np.dot(X.T,Y)\n",
        "\n",
        "weight=calWeight(X,Y)\n",
        "print('W=',weight,end=\"\")\n",
        "\n",
        "print(\"\\n\\n Dimensions of weight matrix:\",weight.shape)"
      ],
      "metadata": {
        "colab": {
          "base_uri": "https://localhost:8080/"
        },
        "id": "AufDRyphxxEY",
        "outputId": "6dd40d21-46fe-427d-9161-158344a0dfb8"
      },
      "execution_count": null,
      "outputs": [
        {
          "output_type": "stream",
          "name": "stdout",
          "text": [
            "W= [[2 2 4]\n",
            " [4 0 2]\n",
            " [2 2 0]\n",
            " [0 4 2]\n",
            " [0 4 2]\n",
            " [0 4 2]]\n",
            "\n",
            " Dimensions of weight matrix: (6, 3)\n"
          ]
        }
      ]
    },
    {
      "cell_type": "code",
      "source": [
        "def forwardbipolaractivation(matrix,weight):\n",
        "  matrix[matrix > 0] = 1\n",
        "  matrix[matrix <= 0] = -1\n",
        "  return np.array(matrix)\n",
        "\n",
        "def backwardbipolaractivation(matrix,weight):\n",
        "  matrix[matrix >= 0] = 1\n",
        "  matrix[matrix < 0] = -1  \n",
        "  return np.array(matrix)"
      ],
      "metadata": {
        "id": "bYxvoOV9yQ67"
      },
      "execution_count": null,
      "outputs": []
    },
    {
      "cell_type": "code",
      "source": [
        "def forward(Y,weight):\n",
        "  x=np.dot(Y,weight.T)\n",
        "  return forwardbipolaractivation(x,weight)"
      ],
      "metadata": {
        "id": "vbga0KRczjbU"
      },
      "execution_count": null,
      "outputs": []
    },
    {
      "cell_type": "code",
      "source": [
        "print(\"\\n weight*Y1 = \",forward(Y1,weight),\" = X1\")\n",
        "print(\"\\n weight*Y1 = \",forward(Y2,weight),\" = X2\")\n",
        "print(\"\\n weight*Y1 = \",forward(Y3,weight),\" = X3\")\n",
        "print(\"\\n weight*Y1 = \",forward(Y4,weight),\" = X4\")\n",
        "\n",
        "print(\"\\n\\n it is observed that the obtained result maths with the original X matrices.\\n\\n forward testing is 100% accurate. \")"
      ],
      "metadata": {
        "colab": {
          "base_uri": "https://localhost:8080/"
        },
        "id": "YgGBRgwc0U76",
        "outputId": "9a7ca330-69a1-4dcd-b7ba-fc7b2ef65409"
      },
      "execution_count": null,
      "outputs": [
        {
          "output_type": "stream",
          "name": "stdout",
          "text": [
            "\n",
            " weight*Y1 =  [1 1 1 1 1 1]  = X1\n",
            "\n",
            " weight*Y1 =  [-1 -1 -1 -1 -1 -1]  = X2\n",
            "\n",
            " weight*Y1 =  [ 1 -1 -1  1  1  1]  = X3\n",
            "\n",
            " weight*Y1 =  [ 1  1 -1 -1 -1 -1]  = X4\n",
            "\n",
            "\n",
            " it is observed that the obtained result maths with the original X matrices.\n",
            "\n",
            " forward testing is 100% accurate. \n"
          ]
        }
      ]
    },
    {
      "cell_type": "code",
      "source": [
        "def backward(X,weight):\n",
        "  Y=np.dot(weight.T,X)\n",
        "  return backwardbipolaractivation(Y,weight)\n",
        "  "
      ],
      "metadata": {
        "id": "0hrqiJJM1Rhf"
      },
      "execution_count": null,
      "outputs": []
    },
    {
      "cell_type": "code",
      "source": [
        "print(\"\\n weight*X1 = \",backward(X1,weight),\" = Y1\")\n",
        "print(\"\\n weight*X1 = \",backward(X2,weight),\" = Y2\")\n",
        "print(\"\\n weight*X1 = \",backward(X3,weight),\" = Y3\")\n",
        "print(\"\\n weight*X1 = \",backward(X4,weight),\" = Y4\")\n",
        "\n",
        "print(\"\\n\\n it is observed that the obtained result maths with the original X matrices.\\n\\n forward testing is 100% accurate. \")"
      ],
      "metadata": {
        "colab": {
          "base_uri": "https://localhost:8080/"
        },
        "id": "v4hWc5PK1sG2",
        "outputId": "540acdd9-19ee-44eb-858d-160c463b9a39"
      },
      "execution_count": null,
      "outputs": [
        {
          "output_type": "stream",
          "name": "stdout",
          "text": [
            "\n",
            " weight*X1 =  [1 1 1]  = Y1\n",
            "\n",
            " weight*X1 =  [-1 -1 -1]  = Y2\n",
            "\n",
            " weight*X1 =  [-1  1  1]  = Y3\n",
            "\n",
            " weight*X1 =  [ 1 -1  1]  = Y4\n",
            "\n",
            "\n",
            " it is observed that the obtained result maths with the original X matrices.\n",
            "\n",
            " forward testing is 100% accurate. \n"
          ]
        }
      ]
    },
    {
      "cell_type": "code",
      "source": [],
      "metadata": {
        "id": "rsyjQDvm1-pi"
      },
      "execution_count": null,
      "outputs": []
    }
  ]
}